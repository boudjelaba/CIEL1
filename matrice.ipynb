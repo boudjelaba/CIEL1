{
 "cells": [
  {
   "cell_type": "markdown",
   "id": "dfbd62ff",
   "metadata": {},
   "source": [
    "## Listes"
   ]
  },
  {
   "cell_type": "code",
   "execution_count": 1,
   "id": "127b6353",
   "metadata": {},
   "outputs": [],
   "source": [
    "import numpy as np\n",
    "liste = [1,2,3,4,5,6]\n",
    "del liste[1]"
   ]
  },
  {
   "cell_type": "code",
   "execution_count": 2,
   "id": "f5ff2e4e",
   "metadata": {},
   "outputs": [
    {
     "name": "stdout",
     "output_type": "stream",
     "text": [
      "[1, 3, 4, 5, 6]\n"
     ]
    }
   ],
   "source": [
    "print(liste)"
   ]
  },
  {
   "cell_type": "code",
   "execution_count": 3,
   "id": "373ad45e",
   "metadata": {},
   "outputs": [
    {
     "name": "stdout",
     "output_type": "stream",
     "text": [
      "[1, 3, 4, 6]\n"
     ]
    }
   ],
   "source": [
    "liste.remove(5)\n",
    "print(liste)"
   ]
  },
  {
   "cell_type": "code",
   "execution_count": 4,
   "id": "0fa0d8e2",
   "metadata": {},
   "outputs": [
    {
     "name": "stdout",
     "output_type": "stream",
     "text": [
      "[6, 5, 4, 3, 2, 1]\n"
     ]
    }
   ],
   "source": [
    "liste1 = [1,2,3,4,5,6]\n",
    "liste1.reverse()\n",
    "print(liste1)"
   ]
  },
  {
   "cell_type": "code",
   "execution_count": 5,
   "id": "c717d592",
   "metadata": {},
   "outputs": [
    {
     "data": {
      "text/plain": [
       "2"
      ]
     },
     "execution_count": 5,
     "metadata": {},
     "output_type": "execute_result"
    }
   ],
   "source": [
    "liste2 = [1,2,3,4,5,6,3]\n",
    "liste2.count(3)"
   ]
  },
  {
   "cell_type": "code",
   "execution_count": 6,
   "id": "57e53680",
   "metadata": {},
   "outputs": [
    {
     "data": {
      "text/plain": [
       "4"
      ]
     },
     "execution_count": 6,
     "metadata": {},
     "output_type": "execute_result"
    }
   ],
   "source": [
    "liste2.index(5)"
   ]
  },
  {
   "cell_type": "code",
   "execution_count": 7,
   "id": "0207692b",
   "metadata": {},
   "outputs": [
    {
     "data": {
      "text/plain": [
       "[4, 5, 6, 3]"
      ]
     },
     "execution_count": 7,
     "metadata": {},
     "output_type": "execute_result"
    }
   ],
   "source": [
    "liste2[-4:]"
   ]
  },
  {
   "cell_type": "code",
   "execution_count": 8,
   "id": "f3cdc637",
   "metadata": {},
   "outputs": [
    {
     "data": {
      "text/plain": [
       "['Lycée', 'Charles', 'Carnus']"
      ]
     },
     "execution_count": 8,
     "metadata": {},
     "output_type": "execute_result"
    }
   ],
   "source": [
    "chaine = \"Lycée Charles Carnus\"\n",
    "chaine.split(\" \")"
   ]
  },
  {
   "cell_type": "code",
   "execution_count": 9,
   "id": "3ac8f6c4",
   "metadata": {},
   "outputs": [
    {
     "data": {
      "text/plain": [
       "'Lycée Charles Carnus'"
      ]
     },
     "execution_count": 9,
     "metadata": {},
     "output_type": "execute_result"
    }
   ],
   "source": [
    "liste = ['Lycée', 'Charles', 'Carnus']\n",
    "\" \".join(liste)"
   ]
  },
  {
   "cell_type": "code",
   "execution_count": 10,
   "id": "4c8dfd49",
   "metadata": {},
   "outputs": [
    {
     "name": "stdout",
     "output_type": "stream",
     "text": [
      "[1, 2, 3, 4, 10, 11, 12]\n"
     ]
    }
   ],
   "source": [
    "x = [1, 2, 3, 4]\n",
    "y = [10, 11, 12]\n",
    "x.extend(y)\n",
    "print(x)"
   ]
  },
  {
   "cell_type": "code",
   "execution_count": 11,
   "id": "4ed0984f",
   "metadata": {},
   "outputs": [
    {
     "name": "stdout",
     "output_type": "stream",
     "text": [
      "[1, 5, 2, 3, 4]\n"
     ]
    }
   ],
   "source": [
    "a = [1, 2, 3, 4]\n",
    "a.insert(1, 5)\n",
    "print(a)"
   ]
  },
  {
   "cell_type": "code",
   "execution_count": 12,
   "id": "f430cff4",
   "metadata": {},
   "outputs": [
    {
     "data": {
      "text/plain": [
       "[(1, 2, 3), (1, 3, 2), (2, 1, 3), (2, 3, 1), (3, 1, 2), (3, 2, 1)]"
      ]
     },
     "execution_count": 12,
     "metadata": {},
     "output_type": "execute_result"
    }
   ],
   "source": [
    "from itertools import permutations\n",
    "list(permutations([1, 2, 3]))"
   ]
  },
  {
   "cell_type": "code",
   "execution_count": 13,
   "id": "ae412c7a",
   "metadata": {},
   "outputs": [
    {
     "data": {
      "text/plain": [
       "[1, 2, 3, 4, 5, 6]"
      ]
     },
     "execution_count": 13,
     "metadata": {},
     "output_type": "execute_result"
    }
   ],
   "source": [
    "x = [1, 2, 3]\n",
    "y = [4, 5, 6]\n",
    "x + y"
   ]
  },
  {
   "cell_type": "code",
   "execution_count": 14,
   "id": "1f21b154",
   "metadata": {},
   "outputs": [
    {
     "data": {
      "text/plain": [
       "[1, 2, 1, 2, 1, 2, 1, 2, 1, 2]"
      ]
     },
     "execution_count": 14,
     "metadata": {},
     "output_type": "execute_result"
    }
   ],
   "source": [
    "x = [1, 2]\n",
    "x*5"
   ]
  },
  {
   "cell_type": "code",
   "execution_count": 15,
   "id": "3f6dc829",
   "metadata": {},
   "outputs": [
    {
     "data": {
      "text/plain": [
       "[0, 0, 0, 0]"
      ]
     },
     "execution_count": 15,
     "metadata": {},
     "output_type": "execute_result"
    }
   ],
   "source": [
    "[0] * 4"
   ]
  },
  {
   "cell_type": "code",
   "execution_count": 16,
   "id": "b06c10ad",
   "metadata": {},
   "outputs": [
    {
     "name": "stdout",
     "output_type": "stream",
     "text": [
      "[[1 2]\n",
      " [3 4]]\n"
     ]
    }
   ],
   "source": [
    "matrice1 = np.array(np.mat('1 2; 3 4'))\n",
    "print(matrice1)"
   ]
  },
  {
   "cell_type": "code",
   "execution_count": 17,
   "id": "f07acafc",
   "metadata": {},
   "outputs": [
    {
     "name": "stdout",
     "output_type": "stream",
     "text": [
      "[[1 2]\n",
      " [3 4]]\n"
     ]
    }
   ],
   "source": [
    "matrice20 = np.matrix([[1, 2], [3, 4]])\n",
    "print(matrice20)"
   ]
  },
  {
   "cell_type": "code",
   "execution_count": 18,
   "id": "f30ba7ed",
   "metadata": {},
   "outputs": [
    {
     "name": "stdout",
     "output_type": "stream",
     "text": [
      "[[1 2 3]\n",
      " [4 5 6]\n",
      " [7 8 9]]\n"
     ]
    }
   ],
   "source": [
    "matrice2 = np.array([[1, 2, 3], [4, 5, 6], [7, 8, 9]])\n",
    "print(matrice2)"
   ]
  },
  {
   "cell_type": "code",
   "execution_count": 19,
   "id": "d6837275",
   "metadata": {},
   "outputs": [
    {
     "name": "stdout",
     "output_type": "stream",
     "text": [
      "Vecteur original :\n",
      "[ 1  2  3  4  5  6  7  8  9 10 11 12]\n"
     ]
    }
   ],
   "source": [
    "import numpy as np\n",
    "\n",
    "arr = np.array([1, 2, 3, 4, 5, 6, 7, 8, 9, 10, 11, 12])\n",
    "print(\"Vecteur original :\")\n",
    "print(arr)"
   ]
  },
  {
   "cell_type": "code",
   "execution_count": 20,
   "id": "876b1ef8",
   "metadata": {},
   "outputs": [
    {
     "name": "stdout",
     "output_type": "stream",
     "text": [
      "Matrice résultante (3x4):\n",
      "[[ 1  2  3  4]\n",
      " [ 5  6  7  8]\n",
      " [ 9 10 11 12]]\n"
     ]
    }
   ],
   "source": [
    "reshaped_arr = arr.reshape(3, 4)\n",
    "print(\"Matrice résultante (3x4):\")\n",
    "print(reshaped_arr)"
   ]
  },
  {
   "cell_type": "code",
   "execution_count": 21,
   "id": "01500323",
   "metadata": {},
   "outputs": [
    {
     "name": "stdout",
     "output_type": "stream",
     "text": [
      "Résultat : [1 2 3 4 5 6]\n"
     ]
    }
   ],
   "source": [
    "import numpy as np\n",
    "\n",
    "# matrice 2x3\n",
    "matrice = np.array([[1, 2, 3], [4, 5, 6]])\n",
    "\n",
    "resultat = matrice.flatten()\n",
    "print(\"Résultat :\", resultat)"
   ]
  },
  {
   "cell_type": "code",
   "execution_count": 22,
   "id": "2117cede",
   "metadata": {},
   "outputs": [
    {
     "name": "stdout",
     "output_type": "stream",
     "text": [
      "[[1.+0.j 2.+0.j 3.+0.j]\n",
      " [3.+0.j 4.+0.j 5.+0.j]]\n"
     ]
    }
   ],
   "source": [
    "A = np.array([[1, 2, 3], [3, 4, 5]], dtype = complex)\n",
    "print(A)"
   ]
  },
  {
   "cell_type": "code",
   "execution_count": 23,
   "id": "83972d0d",
   "metadata": {},
   "outputs": [
    {
     "name": "stdout",
     "output_type": "stream",
     "text": [
      "A =  [[ 1  4  5 12]\n",
      " [-5  8  9  0]\n",
      " [-6  7 11 19]]\n",
      "A[0][0] = 1\n",
      "A[1][2] = 9\n",
      "A[-1][-1] = 19\n"
     ]
    }
   ],
   "source": [
    "import numpy as np\n",
    "\n",
    "A = np.array([[1, 4, 5, 12],\n",
    "    [-5, 8, 9, 0],\n",
    "    [-6, 7, 11, 19]])\n",
    "\n",
    "print(\"A = \",A)\n",
    "\n",
    "#  1er élément de la 1ère ligne\n",
    "print(\"A[0][0] =\", A[0][0])  \n",
    "\n",
    "# 3ème élément de la 2ème ligne\n",
    "print(\"A[1][2] =\", A[1][2])\n",
    "\n",
    "# Dernier élément de la dernière ligne\n",
    "print(\"A[-1][-1] =\", A[-1][-1])  "
   ]
  },
  {
   "cell_type": "code",
   "execution_count": 24,
   "id": "624172ff",
   "metadata": {},
   "outputs": [
    {
     "name": "stdout",
     "output_type": "stream",
     "text": [
      "A[:,0] = [ 1 -5 -6]\n",
      "A[:,3] = [12  0 19]\n",
      "A[:,-1] = [12  0 19]\n"
     ]
    }
   ],
   "source": [
    "import numpy as np\n",
    "\n",
    "A = np.array([[1, 4, 5, 12], \n",
    "    [-5, 8, 9, 0],\n",
    "    [-6, 7, 11, 19]])\n",
    "\n",
    "print(\"A[:,0] =\",A[:,0]) # 1ère colonne\n",
    "print(\"A[:,3] =\", A[:,3]) # 4ème colonne\n",
    "print(\"A[:,-1] =\", A[:,-1]) # Dernière colonne (4ème colonne dans notre cas)"
   ]
  },
  {
   "cell_type": "code",
   "execution_count": 25,
   "id": "e00eb17e",
   "metadata": {},
   "outputs": [
    {
     "name": "stdout",
     "output_type": "stream",
     "text": [
      "[5 7 9]\n",
      "[1 3]\n",
      "[7 5]\n",
      "[1 3 5 7 9 7 5]\n",
      "[5 7 9 7 5 3 1]\n"
     ]
    }
   ],
   "source": [
    "import numpy as np\n",
    "vecteur = np.array([1, 3, 5, 7, 9, 7, 5])\n",
    "\n",
    "print(vecteur[2:5])        # Sortie : [5, 7, 9]\n",
    "\n",
    "print(vecteur[:-5])        # Sortie : [1, 3]   \n",
    "\n",
    "print(vecteur[5:])         # Sortie :[7, 5]\n",
    "\n",
    "print(vecteur[:])          # Sortie :[1, 3, 5, 7, 9, 7, 5]\n",
    "\n",
    "print(vecteur[::-1])       # Sortie :[5, 7, 9, 7, 5, 3, 1]"
   ]
  },
  {
   "cell_type": "code",
   "execution_count": 26,
   "id": "18336a61",
   "metadata": {},
   "outputs": [
    {
     "name": "stdout",
     "output_type": "stream",
     "text": [
      "[[ 1  4  5 12 14]\n",
      " [-5  8  9  0 17]\n",
      " [-6  7 11 19 21]]\n",
      "[[ 1  4  5 12]\n",
      " [-5  8  9  0]]\n",
      "[[ 1  4  5 12 14]]\n",
      "[ 5  9 11]\n",
      "[[ 5 12 14]\n",
      " [ 9  0 17]\n",
      " [11 19 21]]\n"
     ]
    },
    {
     "data": {
      "text/plain": [
       "' Sortie :\\n[[ 5 12 14]\\n [ 9  0 17]\\n [11 19 21]]\\n'"
      ]
     },
     "execution_count": 26,
     "metadata": {},
     "output_type": "execute_result"
    }
   ],
   "source": [
    "import numpy as np\n",
    "\n",
    "A = np.array([[1, 4, 5, 12, 14], \n",
    "    [-5, 8, 9, 0, 17],\n",
    "    [-6, 7, 11, 19, 21]])\n",
    "\n",
    "print(A)\n",
    "''' Sortie :\n",
    "[[ 1  4  5 12 14]\n",
    " [-5  8  9  0 17]\n",
    " [-6  7 11 19 21]]\n",
    "'''\n",
    "\n",
    "print(A[:2, :4])  # 2 lignes, 4 colonnes\n",
    "''' Sortie :\n",
    "[[ 1  4  5 12]\n",
    " [-5  8  9  0]]\n",
    "'''\n",
    "\n",
    "print(A[:1,])  # 1ère ligne, toutes les colonnes\n",
    "''' Sortie :\n",
    "[[ 1  4  5 12 14]]\n",
    "'''\n",
    "\n",
    "print(A[:,2])  # toutes les lignes, 2ème colonne\n",
    "''' Sortie :\n",
    "[ 5  9 11]\n",
    "'''\n",
    "\n",
    "print(A[:, 2:5])  # toutes les lignes, de la 3ème à la 5ème colonne\n",
    "''' Sortie :\n",
    "[[ 5 12 14]\n",
    " [ 9  0 17]\n",
    " [11 19 21]]\n",
    "'''"
   ]
  },
  {
   "cell_type": "code",
   "execution_count": 27,
   "id": "51fcbdd1",
   "metadata": {},
   "outputs": [
    {
     "name": "stdout",
     "output_type": "stream",
     "text": [
      "[[ 0  1  2  3]\n",
      " [ 4  5  6  7]\n",
      " [ 8  9 10 11]]\n"
     ]
    }
   ],
   "source": [
    "x = np.matrix(np.arange(12).reshape((3,4)))\n",
    "print(x)"
   ]
  },
  {
   "cell_type": "code",
   "execution_count": 28,
   "id": "23ccf795",
   "metadata": {},
   "outputs": [
    {
     "name": "stdout",
     "output_type": "stream",
     "text": [
      "[4 3 4 2 3 4 3 4 1 4]\n"
     ]
    }
   ],
   "source": [
    "import numpy as np\n",
    "\n",
    "# Tableau (vecteur) de nombres aléatoires\n",
    "a = np.random.randint(1, 5, 10)\n",
    "\n",
    "print(a)"
   ]
  },
  {
   "cell_type": "code",
   "execution_count": 29,
   "id": "32ea4285",
   "metadata": {},
   "outputs": [
    {
     "name": "stdout",
     "output_type": "stream",
     "text": [
      "Matrice x :\n",
      "[[0.5488135  0.71518937 0.60276338]\n",
      " [0.54488318 0.4236548  0.64589411]]\n"
     ]
    }
   ],
   "source": [
    "import numpy as np\n",
    "\n",
    "np.random.seed(0)\n",
    "\n",
    "x = np.random.rand(2,3)\n",
    "print(\"Matrice x :\")\n",
    "print(x)"
   ]
  },
  {
   "cell_type": "code",
   "execution_count": 30,
   "id": "465d0ed3",
   "metadata": {},
   "outputs": [
    {
     "name": "stdout",
     "output_type": "stream",
     "text": [
      "[[4 0 0 4]\n",
      " [2 1 0 1]\n",
      " [1 0 1 4]]\n"
     ]
    }
   ],
   "source": [
    "import numpy as np\n",
    "# np.random.randint(low, high=None, size=None, dtype='l')\n",
    "\n",
    "tab = np.random.randint(0,5,size = (3,4))\n",
    "print(tab)"
   ]
  },
  {
   "cell_type": "code",
   "execution_count": 31,
   "id": "31a0614f",
   "metadata": {},
   "outputs": [
    {
     "name": "stdout",
     "output_type": "stream",
     "text": [
      "[[-2 -5 -2]\n",
      " [ 0 -5 -3]]\n"
     ]
    }
   ],
   "source": [
    "import numpy as np\n",
    "\n",
    "tableau = np.random.randint(-5,5,size = (2,3))\n",
    "print(tableau)"
   ]
  },
  {
   "cell_type": "code",
   "execution_count": 32,
   "id": "3c9cf5c2",
   "metadata": {},
   "outputs": [
    {
     "name": "stdout",
     "output_type": "stream",
     "text": [
      "[[99 88 49 29 19 19 14]\n",
      " [39 32 65  9 57 32 31]\n",
      " [74 23 35 75 55 28 34]\n",
      " [ 0  0 36 53  5 38 17]\n",
      " [79  4 42 58 31  1 65]\n",
      " [41 57 35 11 46 82 91]\n",
      " [ 0 14 99 53 12 42 84]\n",
      " [75 68  6 68 47  3 76]]\n"
     ]
    }
   ],
   "source": [
    "import numpy as np\n",
    "\n",
    "tableau = np.random.randint(0,100,size = (8,7))\n",
    "print(tableau)"
   ]
  },
  {
   "cell_type": "code",
   "execution_count": null,
   "id": "c91d8657",
   "metadata": {},
   "outputs": [],
   "source": []
  }
 ],
 "metadata": {
  "kernelspec": {
   "display_name": "Python 3 (ipykernel)",
   "language": "python",
   "name": "python3"
  },
  "language_info": {
   "codemirror_mode": {
    "name": "ipython",
    "version": 3
   },
   "file_extension": ".py",
   "mimetype": "text/x-python",
   "name": "python",
   "nbconvert_exporter": "python",
   "pygments_lexer": "ipython3",
   "version": "3.9.7"
  }
 },
 "nbformat": 4,
 "nbformat_minor": 5
}
