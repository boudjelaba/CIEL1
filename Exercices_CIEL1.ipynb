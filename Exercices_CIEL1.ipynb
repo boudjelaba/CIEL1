{
 "cells": [
  {
   "cell_type": "markdown",
   "metadata": {},
   "source": [
    "<img style=\"float: right;width: 100px\" src=\"https://raw.githubusercontent.com/boudjelaba/Utiles/master/Logo/Carnus_1.png\">\n",
    "\n",
    "<div>\n",
    "    <p><h3>Cours d'informatique</h3></p>\n",
    "    <p>Lycée Charles Carnus</p>\n",
    "    <p>BTS-CIEL : 2023 - 2024</p>\n",
    "</div>\n",
    "\n",
    "Contact : [Mail](mailto:k.boudjelaba@carnus.fr)\n",
    "\n",
    "<div style=\"text-align: center;padding-bottom:20px;padding-top:10px\"><h1>Python</h1>\n",
    "</div>\n",
    "\n",
    "-----------------------------------------------------------------------------\n",
    "\n",
    "## <cite><font color=\"orange\"> Initiation : </font></cite>\n",
    "\n",
    "---"
   ]
  },
  {
   "cell_type": "markdown",
   "metadata": {},
   "source": [
    "## Entrée et sortie\n",
    "\n",
    "<div class=\"alert alert-block alert-info\"> \n",
    "    \n",
    "- Sortie (affichage à l'écran) :\n",
    "    \n",
    "```python\n",
    "print(\"Message\")\n",
    "\n",
    "```\n",
    "\n",
    "- Entrée (saisie au clavier) :\n",
    "    \n",
    "```python\n",
    "a = int(input(\"Veuillez saisir la valeur de a \"))\n",
    "b = float(input(\"Veuillez saisir la valeur de b \"))\n",
    "c = input(\"Veuillez saisir c \")\n",
    "\n",
    "```\n",
    "</div>"
   ]
  },
  {
   "cell_type": "code",
   "execution_count": 1,
   "metadata": {},
   "outputs": [
    {
     "name": "stdout",
     "output_type": "stream",
     "text": [
      "Veuillez saisir une chaîne de caractères Lycée Carnus\n",
      "Lycée Carnus\n"
     ]
    }
   ],
   "source": [
    "c = input(\"Veuillez saisir une chaîne de caractères \")\n",
    "print(c)"
   ]
  },
  {
   "cell_type": "markdown",
   "metadata": {},
   "source": [
    "### Exemples :"
   ]
  },
  {
   "cell_type": "code",
   "execution_count": 2,
   "metadata": {},
   "outputs": [
    {
     "name": "stdout",
     "output_type": "stream",
     "text": [
      "Phrase à afficher\n"
     ]
    }
   ],
   "source": [
    "print(\"Phrase à afficher\")"
   ]
  },
  {
   "cell_type": "code",
   "execution_count": 3,
   "metadata": {},
   "outputs": [
    {
     "name": "stdout",
     "output_type": "stream",
     "text": [
      "Veuillez saisir la valeur de a 6\n",
      "a = 6\n"
     ]
    }
   ],
   "source": [
    "a = int(input(\"Veuillez saisir la valeur de a \"))\n",
    "print(\"a =\", a)"
   ]
  },
  {
   "cell_type": "code",
   "execution_count": 4,
   "metadata": {},
   "outputs": [
    {
     "name": "stdout",
     "output_type": "stream",
     "text": [
      "Veuillez saisir une phrase Lycée Charles Carnus\n",
      "c = Lycée Charles Carnus\n"
     ]
    }
   ],
   "source": [
    "c = input(\"Veuillez saisir une phrase \")\n",
    "print(\"c =\", c)"
   ]
  },
  {
   "cell_type": "markdown",
   "metadata": {},
   "source": [
    "---"
   ]
  },
  {
   "cell_type": "markdown",
   "metadata": {},
   "source": [
    "## Déclarer une variable :\n",
    "\n",
    "<div class=\"alert alert-block alert-info\"> \n",
    "    \n",
    "```python\n",
    "a = 10\n",
    "x = [1, 4, 3]\n",
    "b = int(input(\"Veuillez saisir la valeur de b \"))\n",
    "c = float(input(\"Veuillez saisir la valeur de c \"))\n",
    "\n",
    "```\n",
    "</div>"
   ]
  },
  {
   "cell_type": "markdown",
   "metadata": {},
   "source": [
    "### Exemples :"
   ]
  },
  {
   "cell_type": "code",
   "execution_count": 5,
   "metadata": {},
   "outputs": [
    {
     "name": "stdout",
     "output_type": "stream",
     "text": [
      "x =  [1, 4, 3]\n",
      "x est de type : <class 'list'>\n"
     ]
    }
   ],
   "source": [
    "x = [1,4,3]\n",
    "print(\"x = \", x)\n",
    "print(\"x est de type :\", type(x))"
   ]
  },
  {
   "cell_type": "code",
   "execution_count": 6,
   "metadata": {},
   "outputs": [
    {
     "name": "stdout",
     "output_type": "stream",
     "text": [
      "La valeur de a est : 23\n",
      "a est de type :  <class 'int'>\n",
      "La valeur de b est : 2.5\n",
      "b est de type :  <class 'float'>\n",
      "La valeur de c est : t\n",
      "c est de type :  <class 'str'>\n",
      "La valeur de d est : 5.7\n",
      "d est de type :  <class 'str'>\n"
     ]
    }
   ],
   "source": [
    "a, b, c, d = 23, 2.5, 't', '5.7'\n",
    "print(\"La valeur de a est :\", a)\n",
    "print(\"a est de type : \", type(a))\n",
    "print(\"La valeur de b est :\", b)\n",
    "print(\"b est de type : \", type(b))\n",
    "print(\"La valeur de c est :\", c)\n",
    "print(\"c est de type : \", type(c))\n",
    "print(\"La valeur de d est :\", d)\n",
    "print(\"d est de type : \", type(d))"
   ]
  },
  {
   "cell_type": "code",
   "execution_count": 7,
   "metadata": {},
   "outputs": [
    {
     "name": "stdout",
     "output_type": "stream",
     "text": [
      "y =  [1.2 5.6 8. ]\n",
      "y est de type : <class 'numpy.ndarray'>\n"
     ]
    }
   ],
   "source": [
    "import numpy as np\n",
    "y = np.array([1.2, 5.6, 8])\n",
    "print(\"y = \", y)\n",
    "print(\"y est de type :\", type(y))"
   ]
  },
  {
   "cell_type": "code",
   "execution_count": 8,
   "metadata": {},
   "outputs": [
    {
     "name": "stdout",
     "output_type": "stream",
     "text": [
      "z = Lycée Charles Carnus\n",
      "z est de type : <class 'str'>\n"
     ]
    }
   ],
   "source": [
    "z = 'Lycée Charles Carnus'\n",
    "print(\"z =\", z)\n",
    "print(\"z est de type :\", type(z))"
   ]
  },
  {
   "cell_type": "code",
   "execution_count": 9,
   "metadata": {},
   "outputs": [
    {
     "name": "stdout",
     "output_type": "stream",
     "text": [
      "z1 = Lycée Charles Carnus\n",
      "z1 est de type : <class 'str'>\n"
     ]
    }
   ],
   "source": [
    "z1 = \"Lycée Charles Carnus\"\n",
    "print(\"z1 =\", z1)\n",
    "print(\"z1 est de type :\", type(z1))"
   ]
  },
  {
   "cell_type": "code",
   "execution_count": 10,
   "metadata": {},
   "outputs": [
    {
     "name": "stdout",
     "output_type": "stream",
     "text": [
      "e = []\n"
     ]
    }
   ],
   "source": [
    "e = []\n",
    "print(\"e =\", e)"
   ]
  },
  {
   "cell_type": "markdown",
   "metadata": {},
   "source": [
    "## Réaliser des calculs simples :\n",
    "\n",
    "<div class=\"alert alert-block alert-info\"> \n",
    "    \n",
    "```python\n",
    "    a = 1.5\n",
    "    b = 3\n",
    "    somme = a+b\n",
    "    soustraction = a-b\n",
    "    multiplication = a*b\n",
    "    division = a/b\n",
    "    puissance = a**b\n",
    "    division_entiere = a//b\n",
    "    reste_division_entiere = a%b\n",
    "\n",
    "```\n",
    "    \n",
    "```python\n",
    "    import numpy as np\n",
    "    c = np.sqrt(9)\n",
    "    d = 2*np.pi\n",
    "\n",
    "```\n",
    "</div>"
   ]
  },
  {
   "cell_type": "markdown",
   "metadata": {},
   "source": [
    "### Exemples :"
   ]
  },
  {
   "cell_type": "code",
   "execution_count": 11,
   "metadata": {},
   "outputs": [
    {
     "name": "stdout",
     "output_type": "stream",
     "text": [
      "La somme =  4.5\n",
      "La soustraction =  0.5\n",
      "Le produit =  5.0\n",
      "Le rapport =  1.25\n",
      "Le quotient de la division entière =  1.0\n",
      "Le reste de la division entière =  0.5\n",
      "x à la puissance y =  6.25\n"
     ]
    }
   ],
   "source": [
    "x = 2.5\n",
    "y = 2\n",
    "r1 = x+y\n",
    "print(\"La somme = \", r1)\n",
    "r2 = x-y\n",
    "print(\"La soustraction = \", r2)\n",
    "r3 = x*y\n",
    "print(\"Le produit = \", r3)\n",
    "r4 = x/y\n",
    "print(\"Le rapport = \", r4)\n",
    "r5 = x//y\n",
    "print(\"Le quotient de la division entière = \", r5)\n",
    "r6 = x%y\n",
    "print(\"Le reste de la division entière = \", r6)\n",
    "r7 = x**y\n",
    "print(\"x à la puissance y = \", r7)"
   ]
  },
  {
   "cell_type": "code",
   "execution_count": 12,
   "metadata": {},
   "outputs": [
    {
     "name": "stdout",
     "output_type": "stream",
     "text": [
      "La racine carrée de 25 est : 5.0\n",
      "Le périmètre d'un cercle de rayon 5 est : 31.41592653589793\n",
      "\n",
      "Le résultat peut s'écrire sous la forme : 31.42 m\n"
     ]
    }
   ],
   "source": [
    "import numpy as np\n",
    "print(\"La racine carrée de 25 est :\", np.sqrt(25))\n",
    "p = 2*np.pi*5\n",
    "print(\"Le périmètre d'un cercle de rayon 5 est :\", p)\n",
    "print(\"\\nLe résultat peut s'écrire sous la forme : {:.2f} m\".format(p))"
   ]
  },
  {
   "cell_type": "markdown",
   "metadata": {},
   "source": [
    "## Exercices :\n",
    "\n",
    "---\n",
    "\n",
    "<button type=\"button\" class=\"btn btn-primary\">Exercice 1 :</button>\n",
    "\n",
    "- Affecter les variables temps et distance par les valeurs 12.348 et 120.9. Calculer et afficher la valeur de la vitesse."
   ]
  },
  {
   "cell_type": "code",
   "execution_count": null,
   "metadata": {},
   "outputs": [],
   "source": []
  },
  {
   "cell_type": "markdown",
   "metadata": {},
   "source": [
    "---\n",
    "\n",
    "<button type=\"button\" class=\"btn btn-primary\">Exercice 2 :</button>\n",
    "\n",
    "- Saisir un nom et un âge en utilisant l’instruction input(). Les afficher."
   ]
  },
  {
   "cell_type": "code",
   "execution_count": null,
   "metadata": {},
   "outputs": [],
   "source": []
  },
  {
   "cell_type": "markdown",
   "metadata": {},
   "source": [
    "---\n",
    "\n",
    "<button type=\"button\" class=\"btn btn-primary\">Exercice 3 :</button>\n",
    "\n",
    "Écrire un programme qui, à partir de la saisie d’un rayon et d’une hauteur, calcule le volume d’un cône droit : $V=\\frac{1}{3}\\pi r^2 h$. Comparer la précision de calcul avec votre calculatrice ou celle de l’ordinateur."
   ]
  },
  {
   "cell_type": "code",
   "execution_count": null,
   "metadata": {},
   "outputs": [],
   "source": []
  },
  {
   "cell_type": "markdown",
   "metadata": {},
   "source": [
    "## Déclarer un tableau :\n",
    "\n",
    "<div class=\"alert alert-block alert-info\"> \n",
    "    \n",
    "```python\n",
    "import numpy as np\n",
    "x = np.arange(fin)\n",
    "y = np.arange(debut,fin)\n",
    "z = np.arange(debut,fin,pas)\n",
    "\n",
    "```\n",
    "    \n",
    "|                          |                                           |\n",
    "| -------------------------|:------------------------------------------|\n",
    "| np.arange(fin)           | génère un tableau [0, 1, ..., fin-1]      |\n",
    "| np.arange(debut,fin)     | génère un tableau [debut, debut+1, debut+2, ..., fin-1]      |\n",
    "| np.arange(debut,fin,pas) | génère un tableau [debut, debut+pas, debut+2*pas, ..., fin-pas] |\n",
    "    \n",
    "```python\n",
    "import numpy as np\n",
    "x = np.array([1, 4, 3])\n",
    "m = np.array([1.1, 1.2],[2.1, 2.2])\n",
    "y = np.arange(8)\n",
    "z = np.arange(2,10,3)\n",
    "\n",
    "```\n",
    "    \n",
    "|                      |                                           |\n",
    "| -------------------- |:------------------------------------------|\n",
    "| np.array([1, 4, 3])  | tableau contenant les nombres 1, 4 et 3   |\n",
    "| np.arange(8)         | tableau contenant les nombres 0, 1, ..., 7|\n",
    "| np.arange(2,10,3)    | tableau contenant les nombres 2, 5 et 8   |\n",
    "\n",
    "</div>"
   ]
  },
  {
   "cell_type": "code",
   "execution_count": 13,
   "metadata": {},
   "outputs": [
    {
     "name": "stdout",
     "output_type": "stream",
     "text": [
      "x = [1 4 3]\n",
      "m = [[11 12]\n",
      " [21 22]]\n",
      "y = [0 1 2 3 4 5 6 7]\n",
      "z = [2 5 8]\n"
     ]
    }
   ],
   "source": [
    "import numpy as np\n",
    "x = np.array([1, 4, 3])\n",
    "print(\"x =\",x)\n",
    "m = np.array([[11, 12],[21, 22]])\n",
    "print(\"m =\",m)\n",
    "y = np.arange(8)\n",
    "print(\"y =\",y)\n",
    "z = np.arange(2,10,3)\n",
    "print(\"z =\",z)"
   ]
  },
  {
   "cell_type": "markdown",
   "metadata": {},
   "source": [
    "---"
   ]
  },
  {
   "cell_type": "markdown",
   "metadata": {},
   "source": [
    "## Les structures de contrôles :\n",
    "\n",
    "### Le test if :\n",
    "\n",
    "<div class=\"alert alert-block alert-info\"> \n",
    "    \n",
    "```python\n",
    "    a = 1.5\n",
    "    if a == 1.5:\n",
    "        print('Fin du programme')\n",
    "\n",
    "```\n",
    "</div>\n",
    "\n",
    "### Le test if ... else :\n",
    "\n",
    "<div class=\"alert alert-block alert-info\"> \n",
    "    \n",
    "```python\n",
    "    b = 3\n",
    "    if b > 0:\n",
    "        print(\"b est un nombre positif non nul\")\n",
    "    else:\n",
    "        print(\"b est nul ou négatif\")\n",
    "\n",
    "```\n",
    "</div>\n",
    "\n",
    "### Le test if ... elif ... else :\n",
    "\n",
    "<div class=\"alert alert-block alert-info\"> \n",
    "    \n",
    "```python\n",
    "    delta = 2.6\n",
    "    if delta > 0:\n",
    "        print(\"delta est positif\")\n",
    "    elif delta == 0:\n",
    "        print(\"delta est nul\")\n",
    "    else:\n",
    "        print(\"delta est négatif\")\n",
    "\n",
    "```\n",
    "</div>"
   ]
  },
  {
   "cell_type": "markdown",
   "metadata": {},
   "source": [
    "---\n",
    "\n",
    "<button type=\"button\" class=\"btn btn-primary\">Exercice 4 :</button>\n",
    "\n",
    "- Saisir un flottant. S’il est positif ou nul, afficher sa racine, sinon afficher un message d’erreur."
   ]
  },
  {
   "cell_type": "code",
   "execution_count": null,
   "metadata": {},
   "outputs": [],
   "source": []
  },
  {
   "cell_type": "markdown",
   "metadata": {},
   "source": [
    "---\n",
    "\n",
    "<button type=\"button\" class=\"btn btn-primary\">Exercice 5 :</button>\n",
    "\n",
    "- Saisir deux nombres entiers. Rechercher et afficher le plus petit des deux nombres saisis."
   ]
  },
  {
   "cell_type": "code",
   "execution_count": null,
   "metadata": {},
   "outputs": [],
   "source": []
  },
  {
   "cell_type": "markdown",
   "metadata": {},
   "source": [
    "---\n",
    "\n",
    "<button type=\"button\" class=\"btn btn-primary\">Exercice 6 :</button>\n",
    "\n",
    "- Initialiser une liste de trois nombres. Rechercher et afficher le plus grand des trois nombres."
   ]
  },
  {
   "cell_type": "code",
   "execution_count": null,
   "metadata": {},
   "outputs": [],
   "source": []
  },
  {
   "cell_type": "markdown",
   "metadata": {},
   "source": [
    "### La boucle for :\n",
    "\n",
    "<div class=\"alert alert-block alert-info\"> \n",
    "    \n",
    "```python\n",
    "    for i in range(5):\n",
    "        print(i)\n",
    "\n",
    "```\n",
    "</div>\n",
    "\n",
    "---\n",
    "\n",
    "### La boucle while :\n",
    "\n",
    "<div class=\"alert alert-block alert-info\"> \n",
    "    \n",
    "```python\n",
    "    i = 0\n",
    "    while (i<5):\n",
    "        print(i)\n",
    "        i = i+1\n",
    "\n",
    "```\n",
    "</div>"
   ]
  },
  {
   "cell_type": "markdown",
   "metadata": {},
   "source": [
    "---\n",
    "\n",
    "<button type=\"button\" class=\"btn btn-primary\">Exercice 7 :</button>\n",
    "\n",
    "- Ecrire un programme qui calcule la moyenne d'une liste en utilisant une boucle for puis une boucle while.\n",
    "- Ecrire un programme qui calcule la moyenne d'un tableau (vecteur) en utilisant une boucle for puis une boucle while."
   ]
  },
  {
   "cell_type": "code",
   "execution_count": null,
   "metadata": {},
   "outputs": [],
   "source": []
  },
  {
   "cell_type": "code",
   "execution_count": null,
   "metadata": {},
   "outputs": [],
   "source": []
  },
  {
   "cell_type": "markdown",
   "metadata": {},
   "source": [
    "---\n",
    "\n",
    "<button type=\"button\" class=\"btn btn-primary\">Exercice 8 :</button>\n",
    "\n",
    "- Écrire un programme, qui affiche 10 fois ”Lycée Charles Carnus” à l’aide de l’instruction for.\n",
    "- Écrire un programme, qui affiche 10 fois ”Lycée Charles Carnus” à l’aide de l’instruction while."
   ]
  },
  {
   "cell_type": "code",
   "execution_count": null,
   "metadata": {},
   "outputs": [],
   "source": []
  },
  {
   "cell_type": "markdown",
   "metadata": {},
   "source": [
    "---\n",
    "\n",
    "<button type=\"button\" class=\"btn btn-primary\">Exercice 9 :</button>\n",
    "\n",
    "- Écrire un programme qui affiche les nombres de 2 jusqu’à 20 avec un pas de 2 en utilisant une boucle for puis while."
   ]
  },
  {
   "cell_type": "code",
   "execution_count": null,
   "metadata": {},
   "outputs": [],
   "source": []
  },
  {
   "cell_type": "markdown",
   "metadata": {},
   "source": [
    "---\n",
    "\n",
    "<button type=\"button\" class=\"btn btn-primary\">Exercice 10 :</button>\n",
    "\n",
    "- Écrire un programme qui affiche les tables de multiplications de 1 à 10. Aide : utiliser une boucle imbriquée."
   ]
  },
  {
   "cell_type": "code",
   "execution_count": null,
   "metadata": {},
   "outputs": [],
   "source": []
  },
  {
   "cell_type": "markdown",
   "metadata": {},
   "source": [
    "## Les courbes :\n",
    "\n",
    "<div class=\"alert alert-block alert-info\"> \n",
    "    \n",
    "```python\n",
    "# importation des bibliothèque\n",
    "import numpy as np\n",
    "import matplotlib.pyplot as plt\n",
    "%matplotlib inline\n",
    "\n",
    "# génère un vecteur de -2pi à +2pi contenant 256 éléments linéairement espacés\n",
    "X = np.linspace(−2∗np.pi, 2∗np.pi, 256, endpoint=True)\n",
    "\n",
    "# calcul du cosinus pour les différents éléments\n",
    "Y = 2∗np.cos(X)\n",
    "\n",
    "# courbe\n",
    "plt.figure()\n",
    "plt.plot(X,Y) # instruction pour tracer la courble\n",
    "plt.title('Signal sinusoïdal') # titre de la figure\n",
    "plt.xlabel('Abscisses') # titre (label) de l'axe des abscisses\n",
    "plt.ylabel('Ordonnées') # titre (label) de l'axe des ordonnées\n",
    "plt.grid() # activation de la grille\n",
    "plt.show() # affichage de la figure\n",
    "```\n",
    "</div>"
   ]
  },
  {
   "cell_type": "code",
   "execution_count": 14,
   "metadata": {},
   "outputs": [
    {
     "data": {
      "image/png": "[encoded data removed]",
      "text/plain": [
       "<Figure size 432x288 with 1 Axes>"
      ]
     },
     "metadata": {
      "needs_background": "light"
     },
     "output_type": "display_data"
    }
   ],
   "source": [
    "import numpy as np\n",
    "import matplotlib.pyplot as plt\n",
    "%matplotlib inline\n",
    "    \n",
    "X = np.linspace(-2*np.pi, 2*np.pi, 256, endpoint=True) \n",
    "Y = 2*np.sin(X)\n",
    "\n",
    "plt.figure()\n",
    "plt.plot(X,Y)\n",
    "plt.title('Signal sinusoïdal')\n",
    "plt.xlabel('Abscisses')\n",
    "plt.ylabel('Ordonnées')\n",
    "plt.grid()\n",
    "plt.show()"
   ]
  },
  {
   "cell_type": "markdown",
   "metadata": {},
   "source": [
    "---\n",
    "\n",
    "<button type=\"button\" class=\"btn btn-primary\">Exercice 11 :</button>\n",
    "\n",
    "- Écrire un programme pour tracer la courbe de la fonction $f(x)=x^2$ sur l'intervalle $[-3,3]$."
   ]
  },
  {
   "cell_type": "code",
   "execution_count": null,
   "metadata": {
    "scrolled": true
   },
   "outputs": [],
   "source": []
  },
  {
   "cell_type": "markdown",
   "metadata": {},
   "source": [
    "## Les fonctions :\n",
    "\n",
    "<div class=\"alert alert-block alert-info\"> \n",
    "    \n",
    "```python\n",
    "# importation des bibliothèque\n",
    "import numpy as np\n",
    "\n",
    "# définition de la fonction\n",
    "# (fonction qui calcule la résistance équivalente de 2 résistances associées en parallèle)\n",
    "def ma_fonction(R1,R2):\n",
    "    return 1/(1/R1+1/R2)\n",
    "\n",
    "# utilisation (appel) de la fonction\n",
    "Req = ma_fonction(10,20)\n",
    "print(\"La résistance équivalente est :\", Req, \"Ohms\")\n",
    "\n",
    "```\n",
    "</div>"
   ]
  },
  {
   "cell_type": "code",
   "execution_count": 15,
   "metadata": {},
   "outputs": [
    {
     "name": "stdout",
     "output_type": "stream",
     "text": [
      "La résistance équivalente est : 6.666666666666666 Ohms\n"
     ]
    }
   ],
   "source": [
    "# importation des bibliothèque\n",
    "import numpy as np\n",
    "\n",
    "# définition de la fonction\n",
    "# (fonction qui calcule la résistance équivalente de 2 résistances associées en parallèle)\n",
    "def ma_fonction(R1,R2):\n",
    "    return 1/(1/R1+1/R2)\n",
    "\n",
    "# utilisation (appel) de la fonction\n",
    "Req = ma_fonction(10,20)\n",
    "print(\"La résistance équivalente est :\", Req, \"Ohms\")"
   ]
  },
  {
   "cell_type": "markdown",
   "metadata": {},
   "source": [
    "---\n",
    "<button type=\"button\" class=\"btn btn-primary\">Exercice 12 :</button>\n",
    "\n",
    "- Écrire un programme qui utilise une fonction pour réaliser la conversion d'une durée en minutes en secondes."
   ]
  },
  {
   "cell_type": "code",
   "execution_count": 16,
   "metadata": {},
   "outputs": [],
   "source": []
  },
  {
   "cell_type": "markdown",
   "metadata": {},
   "source": [
    "---\n",
    "<button type=\"button\" class=\"btn btn-primary\">Exercice 13 :</button>\n",
    "\n",
    "- Écrire un programme qui utilise une fonction pour calculer la résistance équivalente de 4 résistances associées en parallèle."
   ]
  },
  {
   "cell_type": "code",
   "execution_count": null,
   "metadata": {},
   "outputs": [],
   "source": []
  },
  {
   "cell_type": "markdown",
   "metadata": {},
   "source": [
    "---\n",
    "<button type=\"button\" class=\"btn btn-primary\">Exercice 14 :</button>\n",
    "\n",
    "- Écrire un programme pour tracer la courbe du signal $s(t)$ sur l'interavelle $[-5,+5]$ :\n",
    "$$s(t)=A_p\\big(1+mA_m\\cos(2\\pi f_m t)\\big)\\cos(2\\pi f_p t) $$\n",
    "Avec : $A_p=1.5$, $A_m=1$, $m=0.5$, $f_m=0.5$ et $f_p=5$"
   ]
  },
  {
   "cell_type": "code",
   "execution_count": null,
   "metadata": {},
   "outputs": [],
   "source": []
  },
  {
   "cell_type": "markdown",
   "metadata": {},
   "source": [
    "---\n",
    "<button type=\"button\" class=\"btn btn-primary\">Exercice 15 :</button>\n",
    "\n",
    "Soit le tableau (matrice) suivant :\n",
    "\n",
    "|    |    |    |\n",
    "|:---|:---|:---|\n",
    "| 100| 101| 102|\n",
    "| 103| 103| 105|\n",
    "| 106| 107| 108|\n",
    "| 109| 110| 111|\n",
    "\n",
    "- Écrire un programme pour afficher :\n",
    "    - 103\n",
    "    - 108\n",
    "    - La première ligne\n",
    "    - La deuxième colonne\n",
    "\n",
    "N.B. Ce tableau peut être déclaré de la manière suivante :\n",
    "\n",
    "<div class=\"alert alert-block alert-info\"> \n",
    "\n",
    "```python\n",
    "import numpy as np\n",
    "a = np.array([[100,101,102], [103,104,105], [106,107,108], [109,110,111]])\n",
    "```\n",
    "    \n",
    "</div>"
   ]
  },
  {
   "cell_type": "code",
   "execution_count": null,
   "metadata": {},
   "outputs": [],
   "source": []
  },
  {
   "cell_type": "code",
   "execution_count": null,
   "metadata": {},
   "outputs": [],
   "source": []
  }
 ],
 "metadata": {
  "kernelspec": {
   "display_name": "Python 3 (ipykernel)",
   "language": "python",
   "name": "python3"
  },
  "language_info": {
   "codemirror_mode": {
    "name": "ipython",
    "version": 3
   },
   "file_extension": ".py",
   "mimetype": "text/x-python",
   "name": "python",
   "nbconvert_exporter": "python",
   "pygments_lexer": "ipython3",
   "version": "3.9.7"
  }
 },
 "nbformat": 4,
 "nbformat_minor": 4
}
