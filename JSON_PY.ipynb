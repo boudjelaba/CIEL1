{
 "cells": [
  {
   "cell_type": "code",
   "execution_count": 3,
   "id": "f6612048",
   "metadata": {},
   "outputs": [
    {
     "name": "stdout",
     "output_type": "stream",
     "text": [
      "12345\n"
     ]
    }
   ],
   "source": [
    "import json\n",
    "obj = json.loads('{\"or\": 12345,\"argent\": 67890,\"platinum\": 34567}')\n",
    "print(obj['or'])"
   ]
  },
  {
   "cell_type": "code",
   "execution_count": 9,
   "id": "924881e7",
   "metadata": {},
   "outputs": [
    {
     "name": "stdout",
     "output_type": "stream",
     "text": [
      "usd: 1\n",
      "eur: 1.2\n",
      "gbp: 1.2\n"
     ]
    }
   ],
   "source": [
    "import json\n",
    "\n",
    "# Lire un fichier JSON\n",
    "with open('exemple1.json', 'r') as myfile:\n",
    "    data=myfile.read()\n",
    "\n",
    "# parse file\n",
    "obj = json.loads(data)\n",
    "\n",
    "# affichage\n",
    "print(\"usd: \" + str(obj['usd']))\n",
    "print(\"eur: \" + str(obj['eur']))\n",
    "print(\"gbp: \" + str(obj['gbp']))"
   ]
  },
  {
   "cell_type": "code",
   "execution_count": 11,
   "id": "c95c2ce6",
   "metadata": {},
   "outputs": [
    {
     "name": "stdout",
     "output_type": "stream",
     "text": [
      "{'usd': 1, 'eur': 1.2, 'gbp': 1.2}\n"
     ]
    }
   ],
   "source": [
    "# Lire un fichier JSON\n",
    "import json\n",
    "\n",
    "with open('exemple1.json') as mon_fichier:\n",
    "    data = json.load(mon_fichier)\n",
    "\n",
    "print(data)"
   ]
  },
  {
   "cell_type": "code",
   "execution_count": 13,
   "id": "69fb5490",
   "metadata": {},
   "outputs": [],
   "source": [
    "# Ecrire des données dans un fichier Json\n",
    "import json\n",
    "\n",
    "etudiant = {\n",
    "    \"nom\": \"Charles Carnus\",\n",
    "    \"id\": 1,\n",
    "    \"Apprentissage\": False,\n",
    "    \"spécialité\": \"CIEL\",\n",
    "    \"Option\": \"Informatique et réseaux\"\n",
    "}\n",
    "\n",
    "with open('exemple2.json', 'w') as mon_fichier:\n",
    "    json.dump(etudiant, mon_fichier)"
   ]
  },
  {
   "cell_type": "code",
   "execution_count": 15,
   "id": "8e655f1f",
   "metadata": {},
   "outputs": [
    {
     "name": "stdout",
     "output_type": "stream",
     "text": [
      "{'nom': 'Charles Carnus', 'id': 1, 'Apprentissage': False, 'spécialité': 'CIEL', 'Option': 'Informatique et réseaux'}\n"
     ]
    }
   ],
   "source": [
    "# Lire le fichier JSON créé\n",
    "import json\n",
    "\n",
    "with open('exemple2.json') as mon_fichier:\n",
    "    data = json.load(mon_fichier)\n",
    "\n",
    "print(data)"
   ]
  },
  {
   "cell_type": "code",
   "execution_count": 17,
   "id": "0ee05c36",
   "metadata": {},
   "outputs": [
    {
     "name": "stdout",
     "output_type": "stream",
     "text": [
      "{'nom': 'Charles Carnus', 'id': 1, 'Apprentissage': False, 'spécialité': 'CIEL', 'Option': 'Informatique et réseaux'}\n",
      "Charles Carnus\n",
      "1\n",
      "<class 'dict'>\n"
     ]
    }
   ],
   "source": [
    "import json\n",
    "\n",
    "fileObject = open(\"exemple2.json\", \"r\")\n",
    "jsonContent = fileObject.read()\n",
    "obj_python = json.loads(jsonContent)\n",
    "print(obj_python)\n",
    "print(obj_python['nom'])\n",
    "print(obj_python['id'])\n",
    "\n",
    "print(type(obj_python))"
   ]
  },
  {
   "cell_type": "code",
   "execution_count": 19,
   "id": "ae1fff9f",
   "metadata": {},
   "outputs": [
    {
     "name": "stdout",
     "output_type": "stream",
     "text": [
      "[{\"a\": 1, \"b\": 2}, {\"c\": 3, \"d\": 4}]\n"
     ]
    }
   ],
   "source": [
    "import json\n",
    "\n",
    "aList = [{'a':1, 'b':2}, {'c':3, 'd':4}]\n",
    "jsonStr = json.dumps(aList)\n",
    "print(jsonStr)"
   ]
  },
  {
   "cell_type": "code",
   "execution_count": 21,
   "id": "e1e3b13b",
   "metadata": {},
   "outputs": [],
   "source": [
    "import json\n",
    "\n",
    "aDict = {\"a\":54, \"b\":87}\n",
    "jsonString = json.dumps(aDict)\n",
    "jsonFile = open(\"exemple3.json\", \"w\")\n",
    "jsonFile.write(jsonString)\n",
    "jsonFile.close()"
   ]
  },
  {
   "cell_type": "code",
   "execution_count": 23,
   "id": "ac2ba67d",
   "metadata": {},
   "outputs": [],
   "source": [
    "import json\n",
    "\n",
    "\n",
    "dog_data = {\n",
    "  \"nom\": \"Carnus\",\n",
    "  \"apprentissage\": False,\n",
    "  \"matières\": [\"Maths\", \"Physique\", \"Informatique\"],\n",
    "\n",
    "  \"age\": 19,\n",
    "\n",
    "  \"addresse\": {\n",
    "    \"ecole\": None,\n",
    "    \"maison\": [\"Rodez\", \"France\"]\n",
    "  },\n",
    "\n",
    "  \"projets\": [\n",
    "    {\n",
    "      \"titre\": \"Projet1\",\n",
    "      \"tâches\": [\"tâche1-1\", \"tâche1-2\", \"tâche1-3\"]\n",
    "    },\n",
    "    {\n",
    "      \"titre\": \"Projet2\",\n",
    "      \"tâches\": [\"tâche2-1\", \"tâche2-2\"]\n",
    "    }\n",
    "  ]\n",
    "}\n",
    "\n",
    "\n",
    "with open(\"exemple4-1.json\", mode=\"w\", encoding=\"utf-8\") as write_file:\n",
    "\n",
    "    json.dump(dog_data, write_file)"
   ]
  },
  {
   "cell_type": "code",
   "execution_count": 25,
   "id": "4c3b737e",
   "metadata": {},
   "outputs": [
    {
     "data": {
      "text/plain": [
       "'Carnus'"
      ]
     },
     "execution_count": 25,
     "metadata": {},
     "output_type": "execute_result"
    }
   ],
   "source": [
    "import json\n",
    "with open(\"exemple4-1.json\", mode=\"r\", encoding=\"utf-8\") as read_file:\n",
    "    data = json.load(read_file)\n",
    "\n",
    "type(data)\n",
    "data[\"nom\"]"
   ]
  },
  {
   "cell_type": "markdown",
   "id": "52e4cff3",
   "metadata": {},
   "source": [
    "## Pour afficher les données d'un fichier JSON dans le terminal\n",
    "\n",
    "`python -m json.tool exemple1.json --indent 2`"
   ]
  },
  {
   "cell_type": "code",
   "execution_count": 27,
   "id": "5b41b80d",
   "metadata": {},
   "outputs": [
    {
     "name": "stdout",
     "output_type": "stream",
     "text": [
      "Lire le fichier JSON qui contient plusieurs données JSON\n",
      "Affichage de chaque objet décodé JSON\n",
      "1 Nom1 19 nom1@carnus.fr\n",
      "2 Nom2 20 nom2@carnus.fr\n",
      "3 Nom3 23 nom3@carnus.fr\n",
      "4 Nom4 18 nom4@carnus.fr\n"
     ]
    }
   ],
   "source": [
    "import json\n",
    "\n",
    "studentsList = []\n",
    "print(\"Lire le fichier JSON qui contient plusieurs données JSON\")\n",
    "with open('exemple5.txt') as f:\n",
    "    for jsonObj in f:\n",
    "        studentDict = json.loads(jsonObj)\n",
    "        studentsList.append(studentDict)\n",
    "\n",
    "print(\"Affichage de chaque objet décodé JSON\")\n",
    "for student in studentsList:\n",
    "    print(student[\"id\"], student[\"nom\"], student[\"age\"], student[\"mail\"])"
   ]
  },
  {
   "cell_type": "code",
   "execution_count": 29,
   "id": "3ef10a16",
   "metadata": {},
   "outputs": [
    {
     "name": "stdout",
     "output_type": "stream",
     "text": [
      "Les données Unicode sont  {'string1': 'ÑÇéêèàÂ', 'string2': '÷'}\n",
      "Codage des caractères JSON en définissant Ensure_ascii=False {\"string1\": \"ÑÇéêèàÂ\", \"string2\": \"÷\"}\n",
      "Décodage JSON {'string1': 'ÑÇéêèàÂ', 'string2': '÷'}\n"
     ]
    }
   ],
   "source": [
    "import json\n",
    "\n",
    "unicodeData= {\n",
    "    \"string1\": \"ÑÇéêèàÂ\",\n",
    "    \"string2\": u\"\\u00f7\"\n",
    "}\n",
    "print(\"Les données Unicode sont \", unicodeData)\n",
    "\n",
    "encodedUnicode = json.dumps(unicodeData, ensure_ascii=False)\n",
    "print(\"Codage des caractères JSON en définissant Ensure_ascii=False\", encodedUnicode)\n",
    "\n",
    "print(\"Décodage JSON\", json.loads(encodedUnicode))"
   ]
  },
  {
   "cell_type": "code",
   "execution_count": 31,
   "id": "ef7f0c66",
   "metadata": {},
   "outputs": [
    {
     "name": "stdout",
     "output_type": "stream",
     "text": [
      "Ecriture terminée des données Unicode sérialisées JSON dans le fichier\n",
      "Lecture de données Unicode sérialisées JSON à partir du fichier créé\n",
      "Données Unicode sérialisées JSON décodées\n",
      "ÑÇéêèàÂ ÑÇéêèàÂ\n"
     ]
    }
   ],
   "source": [
    "import json\n",
    "\n",
    "sampleDict= {\n",
    "    \"string1\": \"ÑÇéêèàÂ\",\n",
    "    \"string2\": u\"\\u00f7\"\n",
    "}\n",
    "with open(\"exemple6.json\", \"w\", encoding='utf-8') as write_file:\n",
    "    json.dump(sampleDict, write_file, ensure_ascii=False)\n",
    "print(\"Ecriture terminée des données Unicode sérialisées JSON dans le fichier\")\n",
    "\n",
    "with open(\"exemple6.json\", \"r\", encoding='utf-8') as read_file:\n",
    "    print(\"Lecture de données Unicode sérialisées JSON à partir du fichier créé\")\n",
    "    sampleData = json.load(read_file)\n",
    "\n",
    "print(\"Données Unicode sérialisées JSON décodées\")\n",
    "print(sampleData[\"string1\"], sampleData[\"string1\"])"
   ]
  },
  {
   "cell_type": "code",
   "execution_count": 33,
   "id": "31c8d5c1",
   "metadata": {},
   "outputs": [
    {
     "name": "stdout",
     "output_type": "stream",
     "text": [
      "Les données Unicode sont  {'string1': 'ÑÇéêèàÂ', 'string2': 'ù'}\n",
      "Codage des données JSON Unicode à l'aide d'utf-8\n",
      "Codage des caractères JSON en définissant Ensure_ascii=False b'{\"string1\": \"\\xc3\\x91\\xc3\\x87\\xc3\\xa9\\xc3\\xaa\\xc3\\xa8\\xc3\\xa0\\xc3\\x82\", \"string2\": \"\\xc3\\xb9\"}'\n",
      "Décodage JSON {'string1': 'ÑÇéêèàÂ', 'string2': 'ù'}\n"
     ]
    }
   ],
   "source": [
    "import json\n",
    "\n",
    "# encoding in UTF-8\n",
    "unicodeData= {\n",
    "    \"string1\": \"ÑÇéêèàÂ\",\n",
    "    \"string2\": u\"\\u00f9\"\n",
    "}\n",
    "print(\"Les données Unicode sont \", unicodeData)\n",
    "\n",
    "print(\"Codage des données JSON Unicode à l'aide d'utf-8\")\n",
    "encodedUnicode = json.dumps(unicodeData, ensure_ascii=False).encode('utf-8')\n",
    "print(\"Codage des caractères JSON en définissant Ensure_ascii=False\", encodedUnicode)\n",
    "\n",
    "print(\"Décodage JSON\", json.loads(encodedUnicode))"
   ]
  },
  {
   "cell_type": "code",
   "execution_count": 35,
   "id": "6912ae3e",
   "metadata": {},
   "outputs": [
    {
     "name": "stdout",
     "output_type": "stream",
     "text": [
      "Les données Unicode sont  {'name': 'ÑÇéêèàÂ', 'age': 23}\n",
      "Codage des caractères JSON en définissant Ensure_ascii=True\n",
      "{\"name\": \"\\u00d1\\u00c7\\u00e9\\u00ea\\u00e8\\u00e0\\u00c2\", \"age\": 23}\n",
      "Décodage JSON {'name': 'ÑÇéêèàÂ', 'age': 23}\n",
      "Codage des caractères JSON en définissant Ensure_ascii=False\n",
      "{\"name\": \"ÑÇéêèàÂ\", \"age\": 23}\n",
      "Décodage JSON {'name': 'ÑÇéêèàÂ', 'age': 23}\n",
      "Codage des caractères JSON en définissant Ensure_ascii=False et UTF-8\n",
      "b'{\"name\": \"\\xc3\\x91\\xc3\\x87\\xc3\\xa9\\xc3\\xaa\\xc3\\xa8\\xc3\\xa0\\xc3\\x82\", \"age\": 23}'\n",
      "Décodage JSON {'name': 'ÑÇéêèàÂ', 'age': 23}\n"
     ]
    }
   ],
   "source": [
    "import json\n",
    "\n",
    "sampleDict = {\"name\": \"ÑÇéêèàÂ\", \"age\": 23}\n",
    "print(\"Les données Unicode sont \", sampleDict)\n",
    "\n",
    "# set ensure_ascii=True\n",
    "jsonDict = json.dumps(sampleDict, ensure_ascii=True)\n",
    "print(\"Codage des caractères JSON en définissant Ensure_ascii=True\")\n",
    "print(jsonDict)\n",
    "\n",
    "print(\"Décodage JSON\", json.loads(jsonDict))\n",
    "\n",
    "# set ensure_ascii=False\n",
    "jsonDict = json.dumps(sampleDict, ensure_ascii=False)\n",
    "print(\"Codage des caractères JSON en définissant Ensure_ascii=False\")\n",
    "print(jsonDict)\n",
    "\n",
    "print(\"Décodage JSON\", json.loads(jsonDict))\n",
    "\n",
    "# set ensure_ascii=False and encode using utf-8\n",
    "jsonDict = json.dumps(sampleDict, ensure_ascii=False).encode('utf-8')\n",
    "print(\"Codage des caractères JSON en définissant Ensure_ascii=False et UTF-8\")\n",
    "print(jsonDict)\n",
    "\n",
    "print(\"Décodage JSON\", json.loads(jsonDict))"
   ]
  },
  {
   "cell_type": "code",
   "execution_count": 37,
   "id": "b48d73ef",
   "metadata": {},
   "outputs": [
    {
     "name": "stdout",
     "output_type": "stream",
     "text": [
      "{'id': 456, 'nom': 'Charles Carnus', 'age': 23, 'date_inscription': datetime.datetime(2023, 9, 1, 14, 32, 15, 11762)}\n"
     ]
    }
   ],
   "source": [
    "import json\n",
    "import dateutil.parser\n",
    "\n",
    "# custom Decoder\n",
    "def DecodeDateTime(empDict):\n",
    "    if 'date_inscription' in empDict:\n",
    "        empDict[\"date_inscription\"] = dateutil.parser.parse(empDict[\"date_inscription\"])\n",
    "        return empDict\n",
    "\n",
    "jsonData = \"\"\"{\"id\": 456, \"nom\": \"Charles Carnus\", \"age\": 23, \"date_inscription\": \"2023-09-01T14:32:15.011762\"}\"\"\"\n",
    "\n",
    "# use of object_hook\n",
    "decodedJSON = json.loads(jsonData, object_hook=DecodeDateTime)\n",
    "print(decodedJSON)"
   ]
  },
  {
   "cell_type": "code",
   "execution_count": 39,
   "id": "b5865935",
   "metadata": {},
   "outputs": [
    {
     "name": "stdout",
     "output_type": "stream",
     "text": [
      "JSON Data\n",
      "{\"id\": 456, \"nom\": \"Charles Carnus\", \"age\": 23, \"date_inscription\": \"2025-03-20 13:51:03.910114\"}\n"
     ]
    }
   ],
   "source": [
    "import json\n",
    "import datetime\n",
    "\n",
    "employee = {\n",
    "    \"id\": 456,\n",
    "    \"nom\": \"Charles Carnus\",\n",
    "    \"age\": 23,\n",
    "    \"date_inscription\": datetime.datetime.now()\n",
    "}\n",
    "print(\"JSON Data\")\n",
    "print(json.dumps(employee, default=str))"
   ]
  },
  {
   "cell_type": "code",
   "execution_count": null,
   "id": "a5f2dafd",
   "metadata": {},
   "outputs": [],
   "source": []
  }
 ],
 "metadata": {
  "kernelspec": {
   "display_name": "Python 3 (ipykernel)",
   "language": "python",
   "name": "python3"
  },
  "language_info": {
   "codemirror_mode": {
    "name": "ipython",
    "version": 3
   },
   "file_extension": ".py",
   "mimetype": "text/x-python",
   "name": "python",
   "nbconvert_exporter": "python",
   "pygments_lexer": "ipython3",
   "version": "3.12.7"
  }
 },
 "nbformat": 4,
 "nbformat_minor": 5
}
